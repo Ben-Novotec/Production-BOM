{
 "cells": [
  {
   "cell_type": "markdown",
   "metadata": {
    "collapsed": true,
    "pycharm": {
     "name": "#%% md\n"
    }
   },
   "source": [
    "Checkt of componenten besteld zijn bij Alinco door de hoofd BOM lijst te vergelijken met de production BOM lijst.\n",
    "\n",
    "Voor deze vult het de Status ('B' en neutrale celstijl) en PartSupplier ('Alinco') kolom in.\n",
    "\n",
    "In de functie moeten de namen van de excel files worden ingevuld.\n",
    "De naam bij supplier wordt in de kolom PartSupplier geschreven."
   ]
  },
  {
   "cell_type": "code",
   "execution_count": 1,
   "outputs": [],
   "source": [
    "from production_bom import production_bom"
   ],
   "metadata": {
    "collapsed": false,
    "pycharm": {
     "name": "#%%\n"
    }
   }
  },
  {
   "cell_type": "code",
   "execution_count": null,
   "outputs": [],
   "source": [
    "production_bom(bom_production_path='.xlsx', bom_path='.xlsx', supplier='Alinco')\n"
   ],
   "metadata": {
    "collapsed": false,
    "pycharm": {
     "name": "#%%\n"
    }
   }
  }
 ],
 "metadata": {
  "kernelspec": {
   "display_name": "Python 3",
   "language": "python",
   "name": "python3"
  },
  "language_info": {
   "codemirror_mode": {
    "name": "ipython",
    "version": 2
   },
   "file_extension": ".py",
   "mimetype": "text/x-python",
   "name": "python",
   "nbconvert_exporter": "python",
   "pygments_lexer": "ipython2",
   "version": "2.7.6"
  }
 },
 "nbformat": 4,
 "nbformat_minor": 0
}